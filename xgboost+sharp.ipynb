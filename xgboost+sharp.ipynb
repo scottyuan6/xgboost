{
 "cells": [
  {
   "cell_type": "code",
   "execution_count": null,
   "id": "93c6abd8-e353-42b7-8772-b386b9068a69",
   "metadata": {},
   "outputs": [],
   "source": [
    "import pandas as pd\n",
    "from sklearn.model_selection import train_test_split\n",
    "from sklearn.preprocessing import OneHotEncoder\n",
    "from sklearn.compose import ColumnTransformer\n",
    "from sklearn.pipeline import Pipeline\n",
    "from xgboost import XGBClassifier\n",
    "import shap\n",
    "import numpy as np\n",
    "\n",
    "# 假设 df 是你的 DataFrame\n",
    "# 将目标变量 Supporter 转为 0/1\n",
    "df['Supporter'] = df['Supporter'].map({'Yes': 1, 'No': 0})  # 根据实际值替换\n",
    "\n",
    "# 特征与目标\n",
    "feature_cols = [\n",
    "    'Region', 'Digital Only', 'Email Opt-Out',\n",
    "    'Previous Year Total Information Calls',\n",
    "    'Previous Year Total Value Calls',\n",
    "    'Previous Year Total Meetings Virtual',\n",
    "    'Previous Year Total Meetings in Person',\n",
    "    'Previous Year Total Group Meetings Virtual',\n",
    "    'Previous Year Total Group Meetings in Person',\n",
    "    'Previous Year Total Sales Emails',\n",
    "    'purchase_recency', 'redemption_recency',\n",
    "    'redemption_frequency', 'purchase_frequency'\n",
    "]\n",
    "\n",
    "X = df[feature_cols]\n",
    "y = df['Supporter']\n",
    "\n",
    "# 特征分组\n",
    "categorical_cols = ['Region', 'Digital Only', 'Email Opt-Out']\n",
    "numerical_cols = [col for col in feature_cols if col not in categorical_cols]\n"
   ]
  },
  {
   "cell_type": "code",
   "execution_count": null,
   "id": "30c9bc3d-597c-45d3-94f1-30a5655ea05b",
   "metadata": {},
   "outputs": [],
   "source": [
    "# 划分训练集\n",
    "X_train, _, y_train, _ = train_test_split(X, y, stratify=y, test_size=0.2, random_state=42)\n",
    "\n",
    "# 预处理 + 模型流水线\n",
    "preprocessor = ColumnTransformer([\n",
    "    ('cat', OneHotEncoder(handle_unknown='ignore'), categorical_cols)\n",
    "], remainder='passthrough')\n",
    "\n",
    "pipeline = Pipeline([\n",
    "    ('preprocessor', preprocessor),\n",
    "    ('clf', XGBClassifier(use_label_encoder=False, eval_metric='logloss', random_state=42))\n",
    "])\n",
    "\n",
    "pipeline.fit(X_train, y_train)\n",
    "\n",
    "# 拿到处理后的特征\n",
    "X_train_transformed = pipeline.named_steps['preprocessor'].transform(X_train)\n",
    "feature_names = pipeline.named_steps['preprocessor'].get_feature_names_out()\n",
    "\n",
    "# 创建解释器并计算 SHAP 值\n",
    "explainer = shap.Explainer(pipeline.named_steps['clf'], X_train_transformed)\n",
    "shap_values = explainer(X_train_transformed)\n"
   ]
  },
  {
   "cell_type": "code",
   "execution_count": null,
   "id": "116e59a5-0c04-439d-ad53-b1e28f0105c8",
   "metadata": {},
   "outputs": [],
   "source": [
    "# 创建 region -> 特征 SHAP 排名字典\n",
    "region_shap_importance = {}\n",
    "\n",
    "X_train_original = X_train.reset_index(drop=True)\n",
    "\n",
    "for region in X_train_original['Region'].unique():\n",
    "    mask = (X_train_original['Region'] == region)\n",
    "    X_region = X_train_transformed[mask]\n",
    "    shap_region = shap_values[mask]\n",
    "\n",
    "    # 平均 SHAP 绝对值\n",
    "    shap_mean = np.abs(shap_region.values).mean(axis=0)\n",
    "    shap_series = pd.Series(shap_mean, index=feature_names).sort_values(ascending=False)\n",
    "\n",
    "    region_shap_importance[region] = shap_series\n",
    "\n",
    "# 示例：打印 Ontario 的前 10 个重要变量\n",
    "print(\"Ontario Region - Top 10 Features by SHAP Impact\")\n",
    "print(region_shap_importance['Ontario'].head(10))\n"
   ]
  },
  {
   "cell_type": "code",
   "execution_count": null,
   "id": "3e33e1b0-2143-4a71-9ea3-18682b801611",
   "metadata": {},
   "outputs": [],
   "source": [
    "import matplotlib.pyplot as plt\n",
    "\n",
    "# 可视化每个 region 的 Top 10 SHAP 特征\n",
    "for region, shap_series in region_shap_importance.items():\n",
    "    plt.figure(figsize=(8, 5))\n",
    "    shap_series.head(10).plot(kind='barh')\n",
    "    plt.title(f\"{region} - Top 10 SHAP Features\")\n",
    "    plt.xlabel(\"Mean |SHAP Value|\")\n",
    "    plt.gca().invert_yaxis()\n",
    "    plt.tight_layout()\n",
    "    plt.show()\n"
   ]
  }
 ],
 "metadata": {
  "kernelspec": {
   "display_name": "Python 3 (ipykernel)",
   "language": "python",
   "name": "python3"
  },
  "language_info": {
   "codemirror_mode": {
    "name": "ipython",
    "version": 3
   },
   "file_extension": ".py",
   "mimetype": "text/x-python",
   "name": "python",
   "nbconvert_exporter": "python",
   "pygments_lexer": "ipython3",
   "version": "3.11.7"
  }
 },
 "nbformat": 4,
 "nbformat_minor": 5
}
